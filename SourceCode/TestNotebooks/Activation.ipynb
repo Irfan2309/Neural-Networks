{
 "cells": [
  {
   "cell_type": "code",
   "execution_count": 1,
   "metadata": {},
   "outputs": [],
   "source": [
    "import numpy as np\n",
    "#Class for Activation Functions\n",
    "class Activation:\n",
    "    \n",
    "    #1. Sigmoid: 1 / 1 + e^-x\n",
    "    @staticmethod\n",
    "    def sigmoid(x):\n",
    "        return 1/(1 + np.exp(-x))\n",
    "\n",
    "    #2. ReLU: max(0,x)\n",
    "    @staticmethod\n",
    "    def relu(x):\n",
    "        return np.maximum(0, x)\n",
    "    \n",
    "    #3. Hyperbolic Tangent: tanh\n",
    "    @staticmethod\n",
    "    def tanh(x):\n",
    "        return (np.exp(x) -np.exp(-x)) / (np.exp(x) + np.exp(-x))\n",
    "    \n",
    "    #4. Softmax: e^x / sum(e^x)\n",
    "    @staticmethod\n",
    "    def softmax(x):\n",
    "        return np.exp(x) / np.sum(np.exp(x), axis=0)\n"
   ]
  },
  {
   "cell_type": "code",
   "execution_count": null,
   "metadata": {},
   "outputs": [],
   "source": []
  }
 ],
 "metadata": {
  "kernelspec": {
   "display_name": "Python 3",
   "language": "python",
   "name": "python3"
  },
  "language_info": {
   "codemirror_mode": {
    "name": "ipython",
    "version": 3
   },
   "file_extension": ".py",
   "mimetype": "text/x-python",
   "name": "python",
   "nbconvert_exporter": "python",
   "pygments_lexer": "ipython3",
   "version": "3.11.5"
  }
 },
 "nbformat": 4,
 "nbformat_minor": 2
}
