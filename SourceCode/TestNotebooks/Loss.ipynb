{
 "cells": [
  {
   "cell_type": "code",
   "execution_count": 3,
   "metadata": {},
   "outputs": [],
   "source": [
    "import numpy as np\n",
    "# Class for Loss functions\n",
    "class Loss:\n",
    "\n",
    "    #Mean Absolute Error\n",
    "    @staticmethod\n",
    "    def mae_num(y_true, y_predicted):\n",
    "        return np.mean(np.abs(y_true - y_predicted))\n",
    "    \n",
    "    #Mean Squared Error\n",
    "    @staticmethod\n",
    "    def mse_num(y_true, y_predicted):\n",
    "        return np.mean((y_true - y_predicted) ** 2)\n",
    "    \n",
    "    #Binary Cross Entropy\n",
    "    @staticmethod\n",
    "    def binary_cross_entropy(y_true, y_predicted):\n",
    "        epsilon = 1e-15\n",
    "        #We will take max of i or epsilon so that we don't get log(i) as - infinity as log(0) is -inf\n",
    "        y_pred_new = [max(i, epsilon) for i in y_predicted]\n",
    "        #Then we will take min of i and 1 - epsilon so that we dont get log(1 - y_pred) as -inf\n",
    "        y_pred_new = [min(i, 1 - epsilon) for i in y_pred_new]\n",
    "        #Converting it into numpy array\n",
    "        y_pred_new = np.array(y_pred_new)\n",
    "        return -np.mean(y_true * np.log(y_pred_new) + (1 - y_true) * np.log(1 - y_pred_new))\n",
    "    \n",
    "    # Categorical Cross Entropy\n",
    "    @staticmethod\n",
    "    def cross_entropy(y_true, y_pred):\n",
    "        epsilon = 1e-15\n",
    "        y_pred = np.clip(y_pred, epsilon, 1 - epsilon)  # Clipping predictions for numerical stability\n",
    "        if y_true.ndim == 1:  # Handling binary classification\n",
    "            return -np.mean(y_true * np.log(y_pred) + (1 - y_true) * np.log(1 - y_pred))\n",
    "        elif y_true.ndim == 2:  # Handling multi-class classification\n",
    "            return -np.mean(np.sum(y_true * np.log(y_pred), axis=1))\n",
    "    \n",
    "    # Hinge Loss\n",
    "    @staticmethod\n",
    "    def hinge(y_true, y_pred):\n",
    "        return np.mean(np.maximum(0, 1 - y_true * y_pred))"
   ]
  },
  {
   "cell_type": "code",
   "execution_count": null,
   "metadata": {},
   "outputs": [],
   "source": []
  }
 ],
 "metadata": {
  "kernelspec": {
   "display_name": "Python 3",
   "language": "python",
   "name": "python3"
  },
  "language_info": {
   "codemirror_mode": {
    "name": "ipython",
    "version": 3
   },
   "file_extension": ".py",
   "mimetype": "text/x-python",
   "name": "python",
   "nbconvert_exporter": "python",
   "pygments_lexer": "ipython3",
   "version": "3.11.5"
  }
 },
 "nbformat": 4,
 "nbformat_minor": 2
}
