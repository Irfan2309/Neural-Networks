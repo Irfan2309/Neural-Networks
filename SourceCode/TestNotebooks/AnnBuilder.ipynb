{
 "cells": [
  {
   "cell_type": "code",
   "execution_count": 3,
   "metadata": {},
   "outputs": [],
   "source": [
    "# Class for building the network\n",
    "class ANNBuilder:\n",
    "\n",
    "    # Function for building the network\n",
    "    def build(num_nodes, activation_funcs):\n",
    "        print(\"=====================================\")\n",
    "        print(\"Building the Network\")\n",
    "        print(\"=====================================\")\n",
    "        # Create a new network\n",
    "        network = NeuralNetwork()\n",
    "        # For loop for adding layer to the network\n",
    "        for i in range(1,len(num_nodes)):\n",
    "            print(\"Adding Layer: \", i)\n",
    "            print(\"Number of Nodes: \", num_nodes[i])\n",
    "            print(\"Number of Input Nodes: \", num_nodes[i-1])\n",
    "            # Add the layer to the network\n",
    "            network.append(Layer(num_nodes[i-1], num_nodes[i], activation_funcs[i]))\n",
    "        print(\"=====================================\")\n",
    "        return network\n"
   ]
  },
  {
   "cell_type": "code",
   "execution_count": null,
   "metadata": {},
   "outputs": [],
   "source": []
  }
 ],
 "metadata": {
  "kernelspec": {
   "display_name": "Python 3",
   "language": "python",
   "name": "python3"
  },
  "language_info": {
   "codemirror_mode": {
    "name": "ipython",
    "version": 3
   },
   "file_extension": ".py",
   "mimetype": "text/x-python",
   "name": "python",
   "nbconvert_exporter": "python",
   "pygments_lexer": "ipython3",
   "version": "3.11.5"
  }
 },
 "nbformat": 4,
 "nbformat_minor": 2
}
