{
 "cells": [
  {
   "cell_type": "code",
   "execution_count": 2,
   "metadata": {},
   "outputs": [],
   "source": [
    "import numpy as np\n",
    "# Class for each layer\n",
    "class Layer:\n",
    "\n",
    "    # Constructor for Layer Class\n",
    "    def __init__(self, num_inputs, num_nodes, activation_func):\n",
    "        # Setting the random seed to get same results\n",
    "        np.random.seed(42)\n",
    "        # Setting number of inputs for each layer\n",
    "        self.num_inputs = num_inputs\n",
    "        # Setting number of nodes for each layer\n",
    "        self.num_nodes = num_nodes\n",
    "\n",
    "        # Initializing weights and bias with random values\n",
    "        self.w = np.random.uniform(-1, 1, (num_inputs, num_nodes))  #4x7\n",
    "        self.b = np.random.uniform(-1, 1, num_nodes)\n",
    "        \n",
    "        # Setting activation function for each layer\n",
    "        self.activation_func = activation_func\n",
    "\n",
    "    #FUnciton to get the weighted sum and activation value\n",
    "    def forward(self, x):\n",
    "        # Calculating the weighted sum\n",
    "        self.weighted_sum = np.dot(x, self.w) + self.b\n",
    "        # Calculating the activation function\n",
    "        self.act_node_val = self.activation_func(self.weighted_sum)\n",
    "        # Returning the activated value\n",
    "        return self.act_node_val\n",
    "    \n",
    "    #Function to get the flattened weights\n",
    "    def get_weights(self):\n",
    "        return self.w.flatten()\n",
    "    \n",
    "    #Function to get the flattened bias\n",
    "    def get_bias(self):\n",
    "        return self.b.flatten()\n",
    "    \n",
    "    #Function to update the weights and bias\n",
    "    def update(self, wb_array, index):\n",
    "        # Getting the number of nodes and inputs\n",
    "        num_nodes = self.w.shape[1]\n",
    "        num_inputs = self.w.shape[0]\n",
    "\n",
    "        # Getting the total number of weights and bias\n",
    "        total_weights =  num_nodes * num_inputs\n",
    "        total_bias = num_nodes\n",
    "        total = num_inputs * num_nodes + total_bias\n",
    "\n",
    "        # Getting the new weights and bias\n",
    "        cut = index + total\n",
    "        new_wb = wb_array[index : cut]\n",
    "\n",
    "        # Updating the weights and bias\n",
    "        self.w = new_wb[:total_weights].reshape((num_inputs, num_nodes))\n",
    "        self.b = new_wb[total_weights:]\n",
    "\n",
    "        index += total\n",
    "        return index\n"
   ]
  },
  {
   "cell_type": "code",
   "execution_count": null,
   "metadata": {},
   "outputs": [],
   "source": []
  }
 ],
 "metadata": {
  "kernelspec": {
   "display_name": "Python 3",
   "language": "python",
   "name": "python3"
  },
  "language_info": {
   "codemirror_mode": {
    "name": "ipython",
    "version": 3
   },
   "file_extension": ".py",
   "mimetype": "text/x-python",
   "name": "python",
   "nbconvert_exporter": "python",
   "pygments_lexer": "ipython3",
   "version": "3.11.5"
  }
 },
 "nbformat": 4,
 "nbformat_minor": 2
}
